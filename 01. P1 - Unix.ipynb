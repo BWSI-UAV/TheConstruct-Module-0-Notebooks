{
 "cells": [
  {
   "cell_type": "markdown",
   "id": "c7f19e69-73a2-4067-bce6-520227ac9584",
   "metadata": {},
   "source": [
    "# Command Line Practice\n",
    "\n",
    "\n",
    "Let's get hands on with some basic linux commands. As they say practice makes perfect.\n",
    "Most of this notebook is comprized of elements from the *Linux for Robotics* course offered by the construct linked here: "
   ]
  },
  {
   "cell_type": "markdown",
   "id": "887732fd-64da-4cdd-9a9e-b43a4acdb735",
   "metadata": {},
   "source": [
    "Open up a shell and execute the following to change into the 'src' folder in catkin directory\n",
    "\n",
    "```console\n",
    "cd /home/user/catkin_ws/src/\n",
    "```\n",
    "\n",
    "Then use git to clone inot the previously mentione directory\n",
    "\n",
    "```console\n",
    "git clone https://bitbucket.org/theconstructcore/linux_course_files.git\n",
    "```\n",
    "\n",
    "From there you should see the following displayed:\n",
    "\n",
    "\n",
    "<img src=\"https://drive.google.com/uc?id=1KqAWzx092-vXeRHhs-hQp2csyedB54uZ&export=download\" width=\"\\350\" align=\"center\">"
   ]
  },
  {
   "cell_type": "markdown",
   "id": "fab89b12-45e9-49c5-ad70-5d5304a33387",
   "metadata": {},
   "source": [
    "## 'tree' command to see directory tree\n",
    "\n",
    "Open up a shell and execute the following to change into the 'src' folder in catkin directory\n",
    "\n",
    "```console\n",
    "tree\n",
    "```\n",
    "\n",
    "You should see the very same directory structure as in the text editor above:\n",
    "\n",
    "\n",
    "<img src=\"https://drive.google.com/uc?id=1Dpi2jv-E7LpWqlGo6JBUkzvy760j4A0j&export=download\" width=\"500\" align=\"center\">"
   ]
  },
  {
   "cell_type": "markdown",
   "id": "6c23d3ce-aeae-4bb5-b5ae-c469e8d0f6be",
   "metadata": {},
   "source": [
    "## 'cd' command with absolute path\n",
    "\n",
    "The cd command is one of the most important ones in Linux. It allows you to go into a specific directory. For instance, let's execute the following command:\n",
    "\n",
    "```console\n",
    "cd /home/user/catkin_ws/src/linux_course_files/move_bb8_pkg/src/\n",
    "```\n",
    "\n",
    "The command you executed has taken you directly to the folder named src, passing though many different folders on its way (user, catkin_ws, src, linux_course_files, move_bb8_pkg...)"
   ]
  },
  {
   "cell_type": "markdown",
   "id": "e1e863ce-cc7c-414c-8f62-893a282a592d",
   "metadata": {},
   "source": [
    "## 'pwd' command\n",
    "\n",
    "pwd stands for print working directory\n",
    "\n",
    "```consoole\n",
    "pwd\n",
    "```\n",
    "\n",
    "Should result in the following:\n",
    "\n",
    "<img src=\"https://drive.google.com/uc?id=1amRyTHMLu9xHMTq4dV8FBTITKc_7-JcZ&export=download\" width=\"500\" align=\"center\">"
   ]
  },
  {
   "cell_type": "markdown",
   "id": "371ecae8-d345-4748-8701-046b106911aa",
   "metadata": {},
   "source": [
    "## 'cd' command with relative path\n",
    "\n",
    "The cd command can also be used to move up a directory tree using a relative path.\n",
    "Using two single dots (periods) can be used to move one directory behind relative to the directory that you are currently located.\n",
    "\n",
    "```console\n",
    "cd ../\n",
    "```\n",
    "\n",
    "You should now be in the following directory\n",
    "\n",
    "<img src=\"https://drive.google.com/uc?id=1NcpLROJf4NBN6guYjgX4fGQtAAU2c_bd&export=download\" width=\"500\" align=\"center\">"
   ]
  },
  {
   "cell_type": "markdown",
   "id": "ce0ebaac-847c-4da9-971a-b1ffbf957424",
   "metadata": {},
   "source": [
    "### Chaining relative paths\n",
    "\n",
    "It is also possible to chain the paths as following:\n",
    "\n",
    "```console\n",
    "cd ../../\n",
    "```\n",
    "\n",
    "<img src=\"https://drive.google.com/uc?id=16NKqVTnbhozWhwdQV7-i3J18dS-aZBbH&export=download\" width=\"500\" align=\"center\">"
   ]
  },
  {
   "cell_type": "markdown",
   "id": "600f1d82-2ac7-4e17-882a-e4f5c078a66f",
   "metadata": {},
   "source": [
    "## 'ls' list directory contents \n",
    "\n",
    "The simple command ls stands for list and should give you a list of files currently in directory\n",
    "\n",
    "```console\n",
    "ls\n",
    "```\n",
    "\n",
    "<img src=\"https://drive.google.com/uc?id=12Z2CUE4CK5_u2-sa8rwEDb_Gip13qLrL&export=download\" width=\"500\" align=\"center\">"
   ]
  },
  {
   "cell_type": "markdown",
   "id": "7f2de428-b6a5-4400-a3a4-99e1fe3a7615",
   "metadata": {},
   "source": [
    "## 'ls -l' long list of directory contents \n",
    "\n",
    "The simple command ls stands for list and should give you a list of files currently in directory\n",
    "\n",
    "```console\n",
    "ls -l\n",
    "```\n",
    "\n",
    "The above command also has an alias or a shortcut command that can also be called to do the same thing.\n",
    "\n",
    "```console\n",
    "ll\n",
    "```\n",
    "\n",
    "\n",
    "<img src=\"https://drive.google.com/uc?id=15cX4p_WGocKn4DDj0npTbOY0lJVXdxw3&export=download\" width=\"500\" align=\"center\">"
   ]
  },
  {
   "cell_type": "markdown",
   "id": "07882df8-ba24-40e6-b353-e136bf5c8f17",
   "metadata": {},
   "source": [
    "## 'ls -la' long list hidden files\n",
    "\n",
    "First let's go back to our home directory.\n",
    "Either using cd along with a tilde or by itself and pressing enter will work.\n",
    "\n",
    "**Option 1:**\n",
    "```console\n",
    "cd ~\n",
    "```\n",
    "\n",
    "**Option 2:**\n",
    "```console\n",
    "cd\n",
    "```\n",
    "\n",
    "Now that you are in your home directory please type in ls by itself then type in the following command:\n",
    "\n",
    "```console\n",
    "ls -la\n",
    "```\n",
    "\n",
    "<img src=\"https://drive.google.com/uc?id=1lFlW_brQu0WRNVK4uuj34Zn-1OlyD9WW&export=download\" width=\"500\" align=\"center\">"
   ]
  },
  {
   "cell_type": "markdown",
   "id": "cc1bbf4b-906c-4988-96f4-d107dc342881",
   "metadata": {},
   "source": [
    "## 'mkdir' command\n",
    "\n",
    "\n",
    "It allows you to create a new directory. Again, let's first let's go back to our home directory.\n",
    "Then type in the following:\n",
    "\n",
    "```console\n",
    "mkdir my_folder\n",
    "```\n",
    "\n",
    "<img src=\"https://drive.google.com/uc?id=1FwmuLoYvdAhOfQ231f7cvqtlvfwWF07e&export=download\" width=\"500\" align=\"center\">"
   ]
  },
  {
   "cell_type": "markdown",
   "id": "2ad2a580-9d1b-43cb-af13-8436d6e7438e",
   "metadata": {},
   "source": [
    "## \"touch\" command\n",
    "\n",
    "There are a few ways that you can create a file within a linx operating system, however the most commonly used is with the touch command. Go inside the folder you created in the previous section, and create a new file named **my_file.txt**\n",
    "\n",
    "**Step 1**\n",
    "```\n",
    "cd ~/my_folder\n",
    "```\n",
    "\n",
    "**Step 2**\n",
    "```console\n",
    "touch my_file.txt\n",
    "```\n",
    "\n",
    "If you are cheeky you can also do both at once in the following manner.\n",
    "\n",
    "**Option 1**\n",
    "```console\n",
    "mkdir my_folder; cd ~/my_folder; touch my_file.txt\n",
    "```\n",
    "\n",
    "**Option 2**\n",
    "```console\n",
    "cd ~/my_folder| touch my_file.txt\n",
    "```"
   ]
  },
  {
   "cell_type": "markdown",
   "id": "fb3c3e58-fdc0-422b-9e14-f8371f7fa822",
   "metadata": {},
   "source": [
    "## \"vi\" visual editor\n",
    "\n",
    "We will use a command line editor that is native to Unix systems called 'vi' to edit the 'my_file.txt\" that we just created.\n",
    "Type in the following command in your shell and pay attention to the very bottom of it.\n",
    "\n",
    "```console\n",
    "vi my_file.txt\n",
    "```\n",
    "\n",
    "<img src=\"https://drive.google.com/uc?id=1sdsKdHEnzXtAQzTMnbdBcjn2VoZzfKgG&export=download\" width=\"350\" align=\"center\">"
   ]
  },
  {
   "cell_type": "markdown",
   "id": "96480067-89ed-410d-8063-f8fadb076dcd",
   "metadata": {},
   "source": [
    "## \"vi\" insert mode\n",
    "\n",
    "To actually entert text into your file you need to be in insert mode.\n",
    "To get into inset mode please type the letter 'i' and that should be reflected at the very bottom also.\n",
    "\n",
    "<img src=\"https://drive.google.com/uc?id=1OHFcrnBhQ-uEDGmFAdaBSF_GXr4XlVTZ&export=download\" width=\"350\" align=\"center\">"
   ]
  },
  {
   "cell_type": "markdown",
   "id": "d3279097-7942-42c0-a833-8b7e6ce54625",
   "metadata": {},
   "source": [
    "## \"vi\" save and exit\n",
    "\n",
    "Once in \"insert mode\" please type in \"Autonomous Air Vehicle Racing\" then exit the insert mode by clicking the escape key on your keyboard.\n",
    "Type the following commands to exit and save the file.\n",
    "\n",
    "```console\n",
    ":wq\n",
    "```\n",
    "\n",
    "or\n",
    "```console\n",
    ":x\n",
    "```\n",
    "\n",
    "<img src=\"https://drive.google.com/uc?id=1po8qw_JaaC7kCdshdjanHZbiXWLEhi42&export=download\" width=\"350\" align=\"center\">"
   ]
  },
  {
   "cell_type": "markdown",
   "id": "77a59957-03de-4b28-8b15-9c8138ac8579",
   "metadata": {},
   "source": [
    "### 'mv' to move/ rename a file\n",
    "\n",
    "The 'mv' command quite literally stands for move and has the following structure.\n",
    "This command can also be used to rename files.\n",
    "\n",
    "```\n",
    "mv <file/folder we want to move> <destination>\n",
    "```\n",
    "\n",
    "To re-name the file\n",
    "```\n",
    "mv my_file.txt renamed_file.txt\n",
    "```\n",
    "\n",
    "Move the renamed file:\n",
    "\n",
    "```\n",
    "mv renamed_file.txt ~/catkin_ws/src/linux_course_files/move_bb8_pkg/src\n",
    "```\n",
    "\n",
    "Change directory into the desired workspace:\n",
    "```\n",
    "cd ~/catkin_ws/src/linux_course_files/move_bb8_pkg/sr\n",
    "```\n",
    "\n",
    "Do both by chaining commands\n",
    "```\n",
    "mv renamed_file.txt ~/catkin_ws/src/linux_course_files/move_bb8_pkg/src;cd ~/catkin_ws/src/linux_course_files/move_bb8_pkg/sr\n",
    "```\n",
    "\n",
    "Please type in the **ls -l** command again in order to see the files.\n",
    "You'll notice that there is a difference between the colors of the files.\n",
    "\n",
    "\n",
    "<img src=\"https://drive.google.com/uc?id=1gFzypzFD7ZyCgILrNjVcaQjSLtR0kaM_&export=download\" align=\"center\">"
   ]
  },
  {
   "cell_type": "markdown",
   "id": "8578d8d2-ab72-49c5-a31d-507f01f08ab6",
   "metadata": {},
   "source": [
    "## Make our BB8 move in a circle\n",
    "\n",
    "```shell\n",
    "python move_bb8_circle.py\n",
    "```\n",
    "\n",
    "Take a look at your windows screen."
   ]
  }
 ],
 "metadata": {
  "kernelspec": {
   "display_name": "Python 3",
   "language": "python",
   "name": "python3"
  },
  "language_info": {
   "codemirror_mode": {
    "name": "ipython",
    "version": 3
   },
   "file_extension": ".py",
   "mimetype": "text/x-python",
   "name": "python",
   "nbconvert_exporter": "python",
   "pygments_lexer": "ipython3",
   "version": "3.8.8"
  }
 },
 "nbformat": 4,
 "nbformat_minor": 5
}

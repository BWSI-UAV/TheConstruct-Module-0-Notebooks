{
 "cells": [
  {
   "cell_type": "markdown",
   "id": "c21998a2-56e2-4cc2-b62f-7b3f78a8124d",
   "metadata": {},
   "source": [
    "# Python Enhacement Proposal - 8\n",
    "\n",
    "Examples taken directly from Pep 8 standards\n",
    "Linked: https://www.python.org/dev/peps/pep-0008/"
   ]
  },
  {
   "cell_type": "markdown",
   "id": "93b23fb4-d42c-4f05-a032-b17c33e151ba",
   "metadata": {},
   "source": [
    "## Code Layout\n",
    "### Indentation\n",
    "\n",
    "Use 4 spaces per indentation level.\n",
    "\n",
    "Continuation lines should align wrapped elements either vertically using Python's implicit line joining inside parentheses, brackets and braces, or using a hanging indent [7]. When using a hanging indent the following should be considered; there should be no arguments on the first line and further indentation should be used to clearly distinguish itself as a continuation line:\n",
    "\n",
    "#### Correct:\n",
    "```python\n",
    "# Aligned with opening delimiter.\n",
    "foo = long_function_name(var_one, var_two,\n",
    "                         var_three, var_four)\n",
    "\n",
    "# Add 4 spaces (an extra level of indentation) to distinguish arguments from the rest.\n",
    "def long_function_name(\n",
    "        var_one, var_two, var_three,\n",
    "        var_four):\n",
    "    print(var_one)\n",
    "\n",
    "# Hanging indents should add a level.\n",
    "foo = long_function_name(\n",
    "    var_one, var_two,\n",
    "    var_three, var_four)\n",
    "```\n",
    "\n",
    "#### Wrong:\n",
    "```python\n",
    "# Arguments on first line forbidden when not using vertical alignment.\n",
    "foo = long_function_name(var_one, var_two,\n",
    "    var_three, var_four)\n",
    "\n",
    "# Further indentation required as indentation is not distinguishable.\n",
    "def long_function_name(\n",
    "    var_one, var_two, var_three,\n",
    "    var_four):\n",
    "    print(var_one)\n",
    "```"
   ]
  },
  {
   "cell_type": "code",
   "execution_count": 2,
   "id": "48484642-11f1-4340-ab7c-04df8c138d37",
   "metadata": {},
   "outputs": [],
   "source": [
    "## Demo Here"
   ]
  },
  {
   "cell_type": "markdown",
   "id": "d3bc60d7-adaf-42e9-9cf5-339281b1fdbc",
   "metadata": {},
   "source": [
    "### Maximum Line Length\n",
    "\n",
    "```python\n",
    "with open('/path/to/some/file/you/want/to/read') as file_1, \\\n",
    "     open('/path/to/some/file/being/written', 'w') as file_2:\n",
    "    file_2.write(file_1.read())\n",
    "```"
   ]
  },
  {
   "cell_type": "markdown",
   "id": "2df77796-72bf-4332-8f04-1d669344d0e0",
   "metadata": {},
   "source": [
    "### Imports\n",
    "\n",
    "```python\n",
    "# Correct:\n",
    "import os\n",
    "import sys\n",
    "```\n",
    "```python\n",
    "# Wrong:\n",
    "import sys, os\n",
    "```\n",
    "\n",
    "Imports should be grouped in the following order:\n",
    "\n",
    "* Standard library imports.\n",
    "* Related third party imports.\n",
    "* Local application/library specific imports.\n",
    "* You should put a blank line between each group of imports."
   ]
  },
  {
   "cell_type": "markdown",
   "id": "5707773b-d6d1-4250-8a70-7040c3384889",
   "metadata": {},
   "source": [
    "### Naming Conventions\n",
    "\n",
    "#### Names to avoid\n",
    "\n",
    "```python\n",
    "O = 1\n",
    "```\n",
    "\n",
    "### function names\n",
    "\n",
    "Lower case, separate by underscore if need multiple words.\n",
    "\n",
    "Correct\n",
    "```python\n",
    "\n",
    "def function():\n",
    "    pass\n",
    "\n",
    "def my_function():\n",
    "    pass\n",
    "```"
   ]
  },
  {
   "cell_type": "markdown",
   "id": "eb02e75e-d7c4-423a-b974-82cf5e94c27a",
   "metadata": {},
   "source": [
    "### Variables\n",
    "\n",
    "Generally same as functions however it can be single letter.\n",
    "\n",
    "```python\n",
    "velocity = 100\n",
    "```\n",
    "\n",
    "### Constants\n",
    "\n",
    "All caps and separate with underscore if multiple.\n",
    "```python\n",
    "GRAVITY_ACCEL = 9.8\n",
    "```"
   ]
  },
  {
   "cell_type": "code",
   "execution_count": 4,
   "id": "4d888a32-a24f-4ab9-acc8-3cd17f667774",
   "metadata": {},
   "outputs": [],
   "source": [
    "class UnmmannedVehicle:\n",
    "    def __init__(self):\n",
    "        print(\"Unmanned Vehicles are cool\")\n",
    "    def unmanned_aerial_vehicle(self, name):\n",
    "        return name\n",
    "    "
   ]
  },
  {
   "cell_type": "markdown",
   "id": "26f8d591-e266-46a1-a4ad-841ac079533f",
   "metadata": {},
   "source": [
    "## Object Oriented Programming\n",
    "\n",
    "\n",
    "https://www.youtube.com/watch?v=MikphENIrOo\n",
    "https://www.google.com/search?q=SOLID+principles&rlz=1C1FKPE_enUS959US959&oq=SOLID+principles&aqs=chrome..69i57.7953j0j1&sourceid=chrome&ie=UTF-8\n",
    "https://www.digitalocean.com/community/conceptual_articles/s-o-l-i-d-the-first-five-principles-of-object-oriented-design\n",
    "https://www.freecodecamp.org/news/object-oriented-programming-concepts-21bb035f7260/\n",
    "https://zetcode.com/lang/python/oop/\n",
    "\n",
    "### Polymorphism\n",
    "\n",
    "\n",
    "### Encapsulation\n",
    "\n",
    "\n",
    "### Data Abstraction\n",
    "\n",
    "\n",
    "### Inheritance"
   ]
  }
 ],
 "metadata": {
  "kernelspec": {
   "display_name": "Python 3",
   "language": "python",
   "name": "python3"
  },
  "language_info": {
   "codemirror_mode": {
    "name": "ipython",
    "version": 3
   },
   "file_extension": ".py",
   "mimetype": "text/x-python",
   "name": "python",
   "nbconvert_exporter": "python",
   "pygments_lexer": "ipython3",
   "version": "3.8.8"
  }
 },
 "nbformat": 4,
 "nbformat_minor": 5
}

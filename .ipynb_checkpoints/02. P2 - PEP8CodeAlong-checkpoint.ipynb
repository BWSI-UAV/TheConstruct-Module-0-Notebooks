{
 "cells": [
  {
   "cell_type": "markdown",
   "metadata": {},
   "source": [
    "![BWSI Logo](./images/bwsi_logo.png)\n",
    "\n",
    "<h1><div align=\"left\"> Python Enhacement Proposal # 8 </div></h1>"
   ]
  },
  {
   "cell_type": "code",
   "execution_count": 1,
   "metadata": {},
   "outputs": [
    {
     "data": {
      "text/html": [
       "\n",
       "<div align=\"center\"><iframe \n",
       "src=\"https://docs.google.com/presentation/d/1xaqMk3P8xlECTmP87j8tgyJQhUrnWT95_wDwmoEB_6Q/edit?usp=sharing\" frameborder=\"0\" width=\"900\" height=\"550\" allowfullscreen=\"false\" mozallowfullscreen=\"true\" webkitallowfullscreen=\"false\"></iframe></div>"
      ],
      "text/plain": [
       "<IPython.core.display.HTML object>"
      ]
     },
     "metadata": {},
     "output_type": "display_data"
    }
   ],
   "source": [
    "%%HTML\n",
    "\n",
    "<div align=\"center\"><iframe \n",
    "src=\"https://docs.google.com/presentation/d/1xaqMk3P8xlECTmP87j8tgyJQhUrnWT95_wDwmoEB_6Q/edit?usp=sharing\" frameborder=\"0\" width=\"900\" height=\"550\" allowfullscreen=\"false\" mozallowfullscreen=\"true\" webkitallowfullscreen=\"false\"></iframe></div>"
   ]
  },
  {
   "cell_type": "markdown",
   "metadata": {},
   "source": [
    "# Practical\n",
    "\n",
    "Examples taken directly from Pep 8 standards\n",
    "Linked: https://www.python.org/dev/peps/pep-0008/"
   ]
  },
  {
   "cell_type": "markdown",
   "metadata": {},
   "source": [
    "## Code Layout\n",
    "### Indentation\n",
    "\n",
    "Use 4 spaces per indentation level.\n",
    "\n",
    "Continuation lines should align wrapped elements either vertically using Python's implicit line joining inside parentheses, brackets and braces, or using a hanging indent [7]. When using a hanging indent the following should be considered; there should be no arguments on the first line and further indentation should be used to clearly distinguish itself as a continuation line:\n",
    "\n",
    "#### Correct:\n",
    "```python\n",
    "# Aligned with opening delimiter.\n",
    "foo = long_function_name(var_one, var_two,\n",
    "                         var_three, var_four)\n",
    "\n",
    "# Add 4 spaces (an extra level of indentation) to distinguish arguments from the rest.\n",
    "def long_function_name(\n",
    "        var_one, var_two, var_three,\n",
    "        var_four):\n",
    "    print(var_one)\n",
    "\n",
    "# Hanging indents should add a level.\n",
    "foo = long_function_name(\n",
    "    var_one, var_two,\n",
    "    var_three, var_four)\n",
    "```\n",
    "\n",
    "#### Wrong:\n",
    "```python\n",
    "# Arguments on first line forbidden when not using vertical alignment.\n",
    "foo = long_function_name(var_one, var_two,\n",
    "    var_three, var_four)\n",
    "\n",
    "# Further indentation required as indentation is not distinguishable.\n",
    "def long_function_name(\n",
    "    var_one, var_two, var_three,\n",
    "    var_four):\n",
    "    print(var_one)\n",
    "```"
   ]
  },
  {
   "cell_type": "code",
   "execution_count": 2,
   "metadata": {},
   "outputs": [],
   "source": [
    "## Demo Here"
   ]
  },
  {
   "cell_type": "markdown",
   "metadata": {},
   "source": [
    "### Maximum Line Length\n",
    "\n",
    "```python\n",
    "with open('/path/to/some/file/you/want/to/read') as file_1, \\\n",
    "     open('/path/to/some/file/being/written', 'w') as file_2:\n",
    "    file_2.write(file_1.read())\n",
    "```"
   ]
  },
  {
   "cell_type": "markdown",
   "metadata": {},
   "source": [
    "### Imports\n",
    "\n",
    "```python\n",
    "# Correct:\n",
    "import os\n",
    "import sys\n",
    "```\n",
    "```python\n",
    "# Wrong:\n",
    "import sys, os\n",
    "```\n",
    "\n",
    "Imports should be grouped in the following order:\n",
    "\n",
    "* Standard library imports.\n",
    "* Related third party imports.\n",
    "* Local application/library specific imports.\n",
    "* You should put a blank line between each group of imports."
   ]
  },
  {
   "cell_type": "markdown",
   "metadata": {},
   "source": [
    "### Naming Conventions\n",
    "\n",
    "#### Names to avoid\n",
    "\n",
    "```python\n",
    "O = 1\n",
    "```\n",
    "\n",
    "### function names\n",
    "\n",
    "Lower case, separate by underscore if need multiple words.\n",
    "\n",
    "Correct\n",
    "```python\n",
    "\n",
    "def function():\n",
    "    pass\n",
    "\n",
    "def my_function():\n",
    "    pass\n",
    "```"
   ]
  },
  {
   "cell_type": "markdown",
   "metadata": {},
   "source": [
    "### Variables\n",
    "\n",
    "Generally same as functions however it can be single letter.\n",
    "\n",
    "```python\n",
    "velocity = 100\n",
    "```\n",
    "\n",
    "### Constants\n",
    "\n",
    "All caps and separate with underscore if multiple.\n",
    "```python\n",
    "GRAVITY_ACCEL = 9.8\n",
    "```"
   ]
  },
  {
   "cell_type": "code",
   "execution_count": 4,
   "metadata": {},
   "outputs": [],
   "source": [
    "class UnmmannedVehicle:\n",
    "    def __init__(self):\n",
    "        print(\"Unmanned Vehicles are cool\")\n",
    "    def unmanned_aerial_vehicle(self, name):\n",
    "        return name\n",
    "    "
   ]
  },
  {
   "cell_type": "markdown",
   "metadata": {},
   "source": [
    "## Object Oriented Programming\n",
    "\n",
    "\n",
    "https://www.youtube.com/watch?v=MikphENIrOo\n",
    "https://www.google.com/search?q=SOLID+principles&rlz=1C1FKPE_enUS959US959&oq=SOLID+principles&aqs=chrome..69i57.7953j0j1&sourceid=chrome&ie=UTF-8\n",
    "https://www.digitalocean.com/community/conceptual_articles/s-o-l-i-d-the-first-five-principles-of-object-oriented-design\n",
    "https://www.freecodecamp.org/news/object-oriented-programming-concepts-21bb035f7260/\n",
    "https://zetcode.com/lang/python/oop/\n",
    "\n",
    "### Polymorphism\n",
    "\n",
    "\n",
    "### Encapsulation\n",
    "\n",
    "\n",
    "### Data Abstraction\n",
    "\n",
    "\n",
    "### Inheritance"
   ]
  }
 ],
 "metadata": {
  "kernelspec": {
   "display_name": "Python 2",
   "language": "python",
   "name": "python2"
  },
  "language_info": {
   "codemirror_mode": {
    "name": "ipython",
    "version": 2
   },
   "file_extension": ".py",
   "mimetype": "text/x-python",
   "name": "python",
   "nbconvert_exporter": "python",
   "pygments_lexer": "ipython2",
   "version": "2.7.16"
  }
 },
 "nbformat": 4,
 "nbformat_minor": 5
}

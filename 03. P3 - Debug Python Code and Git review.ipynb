{
 "cells": [
  {
   "cell_type": "markdown",
   "metadata": {},
   "source": [
    "![BWSI Logo](./images/bwsi_logo.png)\n",
    "\n",
    "<h1><div align=\"left\"> Python Debugging Techniques </div></h1>"
   ]
  },
  {
   "cell_type": "code",
   "execution_count": 1,
   "metadata": {},
   "outputs": [
    {
     "data": {
      "text/html": [
       "\n",
       "<div align=\"center\"><iframe \n",
       "src=\"https://docs.google.com/presentation/d/1vDkaKen1wivX2UlphCVrgPymdE5MZdBO6XXpf9P339E/edit?usp=sharing\"\n",
       "frameborder=\"0\" width=\"900\" height=\"550\" allowfullscreen=\"false\" mozallowfullscreen=\"true\" webkitallowfullscreen=\"false\"></iframe></div>"
      ],
      "text/plain": [
       "<IPython.core.display.HTML object>"
      ]
     },
     "metadata": {},
     "output_type": "display_data"
    }
   ],
   "source": [
    "%%HTML\n",
    "\n",
    "<div align=\"center\"><iframe \n",
    "src=\"https://docs.google.com/presentation/d/1vDkaKen1wivX2UlphCVrgPymdE5MZdBO6XXpf9P339E/edit?usp=sharing\"\n",
    "frameborder=\"0\" width=\"900\" height=\"550\" allowfullscreen=\"false\" mozallowfullscreen=\"true\" webkitallowfullscreen=\"false\"></iframe></div>"
   ]
  },
  {
   "cell_type": "markdown",
   "metadata": {},
   "source": [
    "# Practical\n",
    "\n",
    "In order to practice your newly found python debugging skills and apply your github.\n",
    "\n",
    "Git clone the following repository into your notebook workspace.\n",
    "\n",
    "```console\n",
    "https://github.com/BWSI-UAV/bugged_zip_sims_repo\n",
    "```\n",
    "Create your own branch of the \n",
    "\n",
    "## Pip Install Pygame\n",
    "\n",
    "```console\n",
    "python3 -m pip install pygame\n",
    "```"
   ]
  },
  {
   "cell_type": "code",
   "execution_count": 2,
   "metadata": {},
   "outputs": [],
   "source": [
    "## Demo Here"
   ]
  }
 ],
 "metadata": {
  "kernelspec": {
   "display_name": "Python 2",
   "language": "python",
   "name": "python2"
  },
  "language_info": {
   "codemirror_mode": {
    "name": "ipython",
    "version": 2
   },
   "file_extension": ".py",
   "mimetype": "text/x-python",
   "name": "python",
   "nbconvert_exporter": "python",
   "pygments_lexer": "ipython2",
   "version": "2.7.16"
  }
 },
 "nbformat": 4,
 "nbformat_minor": 5
}
